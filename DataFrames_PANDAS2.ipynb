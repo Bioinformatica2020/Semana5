{
 "cells": [
  {
   "cell_type": "code",
   "execution_count": null,
   "metadata": {},
   "outputs": [],
   "source": []
  },
  {
   "cell_type": "markdown",
   "metadata": {},
   "source": [
    "# <font color = green>creación de una función para hacer gráficos de barras</font>\n",
    "\n",
    "## En los argumentos de entrada considerar:\n",
    "- ### Ancho y alto del gráfico\n",
    "- ### Valores para eje X\n",
    "- ### Valores para eje Y\n",
    "- ### Color de las barras\n",
    "- ### Título del gráfico\n",
    "- ### Etiqueta de eje X\n",
    "- ### Etiqueta de eje Y\n",
    "- ### Salvar el gráfico\n",
    "# <font color = blue>Una vez creada la función podrás usarla en cualquier parte de esta bitácora</font>\n",
    "---"
   ]
  },
  {
   "cell_type": "code",
   "execution_count": 352,
   "metadata": {},
   "outputs": [],
   "source": [
    "# primero importamos matplotlib y algunas funciones\n",
    "import matplotlib.pyplot as plt"
   ]
  },
  {
   "cell_type": "markdown",
   "metadata": {},
   "source": [
    "### creamos dos listas de ejemplo"
   ]
  },
  {
   "cell_type": "code",
   "execution_count": 282,
   "metadata": {},
   "outputs": [],
   "source": [
    "X = ['A', 'B', 'C', 'D', 'E', 'F', 'G', 'H']\n",
    "Y = [50,40,30,20,10,6,4,2]"
   ]
  },
  {
   "cell_type": "markdown",
   "metadata": {},
   "source": [
    "### vemos cómo se genera el gráfico"
   ]
  },
  {
   "cell_type": "code",
   "execution_count": 310,
   "metadata": {},
   "outputs": [
    {
     "data": {
      "image/png": "[encoded data removed]",
      "text/plain": [
       "<Figure size 216x216 with 1 Axes>"
      ]
     },
     "metadata": {
      "needs_background": "light"
     },
     "output_type": "display_data"
    }
   ],
   "source": [
    "fig, ax = plt.subplots(figsize=(3,3), linewidth= 5) #  ANCHO X ALTO\n",
    "\n",
    "for i, j in zip(X, # Columna 0 del DataFrame frecuencia2\n",
    "                Y): # Columna 1 del DataFrame frecuencia2\n",
    "    ax.barh(i, # etiquetas del eje x, en itálica\n",
    "            j, # valores del eje y\n",
    "             color= 'black', # color de las barras \n",
    "             align='center', # alineamiento de las barras, la otra opción 'edge'\n",
    "             height= 0.9, # grosor de las barras\n",
    "            linewidth = 0, # ancho del borde de las barras\n",
    "             alpha = 0.7, # transparencia\n",
    "            edgecolor= 'black') # color del borde de las barras\n",
    "\n",
    "ax.spines['right'].set_visible(False) # oculta la linea derecha\n",
    "ax.spines['left'].set_visible(False) # oculta la linea izquierda\n",
    "ax.spines['top'].set_visible(False) # oculta la linea superior \n",
    "ax.spines['bottom'].set_position(('data',-0.6)) # separación entre la primer barra y el eje x\n",
    "\n",
    "ax.xaxis.set_tick_params(labelsize=10) # tamaño de letra del eje x\n",
    "ax.yaxis.set_tick_params(labelsize=11) # tamaño de letra del eje y\n",
    "ax.set_xlabel(\"Número de genes\",size= 15) # título y tamaño para el eje x\n",
    "ax.set_ylabel(\"Grupos\", size= 15) # título y tamaño para el eje y\n",
    "ax.set_title('Frecuencia', size= 20) # Título del gráfico\n",
    "\n",
    "#fig.savefig('../salidas/Procesos.png',dpi = 600, bbox_inches='tight')\n",
    "\n",
    "plt.show()"
   ]
  },
  {
   "cell_type": "code",
   "execution_count": null,
   "metadata": {},
   "outputs": [],
   "source": []
  },
  {
   "cell_type": "code",
   "execution_count": 311,
   "metadata": {},
   "outputs": [],
   "source": [
    "def barras(ancho = 4, alto = 4, ejeX = [], ejeY = [], barcolor = 'black', titulo = '',\n",
    "          labelX = '', labelY = '', salvar = False, nombre = 'plot'):\n",
    "    fig, ax = plt.subplots(figsize=(ancho, alto), linewidth= 5) #  ANCHO X ALTO\n",
    "\n",
    "    for i, j in zip(ejeX, # Columna 0 del DataFrame frecuencia2\n",
    "                    ejeY): # Columna 1 del DataFrame frecuencia2\n",
    "        ax.barh(i, # etiquetas del eje x, en itálica\n",
    "                j, # valores del eje y\n",
    "                 color= barcolor, # color de las barras \n",
    "                 align='center', # alineamiento de las barras, la otra opción 'edge'\n",
    "                 height= 0.9, # grosor de las barras\n",
    "                 linewidth = 0, # ancho del borde de las barras\n",
    "                 alpha = 0.7, # transparencia\n",
    "                edgecolor= 'black') # color del borde de las barras\n",
    "\n",
    "    ax.spines['right'].set_visible(False) # oculta la linea derecha\n",
    "    ax.spines['left'].set_visible(False) # oculta la linea izquierda\n",
    "    ax.spines['top'].set_visible(False) # oculta la linea superior \n",
    "    ax.spines['bottom'].set_position(('data',-0.6)) # separación entre la primer barra y el eje x\n",
    "    \n",
    "    ax.xaxis.set_tick_params(labelsize=10) # tamaño de letra del eje x\n",
    "    ax.yaxis.set_tick_params(labelsize=11) # tamaño de letra del eje y\n",
    "    ax.set_title(titulo, size= 20) # Título del gráfico\n",
    "    ax.set_xlabel(labelX,size= 15) # título y tamaño para el eje x\n",
    "    ax.set_ylabel(labelY, size= 15) # título y tamaño para el eje y\n",
    "    \n",
    "    if salvar is False:\n",
    "        pass\n",
    "    elif salvar is True:\n",
    "        fig.savefig('../salidas/'+nombre+'.png',dpi = 600, bbox_inches='tight')\n",
    "    \n",
    "    plt.show()"
   ]
  },
  {
   "cell_type": "code",
   "execution_count": null,
   "metadata": {},
   "outputs": [],
   "source": []
  },
  {
   "cell_type": "code",
   "execution_count": 312,
   "metadata": {},
   "outputs": [
    {
     "data": {
      "image/png": "[encoded data removed]",
      "text/plain": [
       "<Figure size 216x288 with 1 Axes>"
      ]
     },
     "metadata": {
      "needs_background": "light"
     },
     "output_type": "display_data"
    }
   ],
   "source": [
    "barras(ancho = 3, alto = 4, ejeX = X, ejeY = Y, barcolor = 'black', titulo = 'Frecuencia',\n",
    "          labelX = 'Etiquetas X', labelY = 'Etiquetas Y', salvar = False, nombre = 'plot')"
   ]
  },
  {
   "cell_type": "code",
   "execution_count": null,
   "metadata": {},
   "outputs": [],
   "source": []
  },
  {
   "cell_type": "code",
   "execution_count": null,
   "metadata": {},
   "outputs": [],
   "source": []
  },
  {
   "cell_type": "markdown",
   "metadata": {},
   "source": [
    "---\n",
    "# <font color = red>Ejercicio práctico usando funciones del módulo pandas</font>\n",
    "---\n",
    "## Depuración y filtrado de información a partir de una base de datos organizada en un DataFrame\n",
    "---"
   ]
  },
  {
   "cell_type": "markdown",
   "metadata": {},
   "source": [
    "### Antes de continuar convertir la función de descargas en un módulo personal"
   ]
  },
  {
   "cell_type": "code",
   "execution_count": 32,
   "metadata": {},
   "outputs": [],
   "source": [
    "import pandas as pd\n",
    "import re"
   ]
  },
  {
   "cell_type": "code",
   "execution_count": 306,
   "metadata": {},
   "outputs": [],
   "source": [
    "# aquí escribe el nombre de tu módulo\n",
    "import des"
   ]
  },
  {
   "cell_type": "markdown",
   "metadata": {},
   "source": [
    "---\n",
    "<img src=\"https://raw.githubusercontent.com/Bioinformatica2020/Semana5/master/Screenshot_paper.png\" width = 70%>\n",
    "\n",
    "https://github.com/Bioinformatica2020/Semana5/blob/master/D%C3%ADaz-Tielas_et_al.pdf\n",
    "\n",
    "## KEGG Pathways\n",
    "\n",
    "https://raw.githubusercontent.com/Bioinformatica2020/Semana5/master/Arabidopsis_KEGG_Annotation.csv\n",
    "\n",
    "---"
   ]
  },
  {
   "cell_type": "markdown",
   "metadata": {},
   "source": [
    "# <font color = red>Ejercicio:</font>\n",
    "### Yu _et al_. obtuvieron varios genes regulados diferencialmente\n",
    "### A partir de sus datos determinaremos en qué vías del KEGG están implicados los genes"
   ]
  },
  {
   "cell_type": "code",
   "execution_count": null,
   "metadata": {},
   "outputs": [],
   "source": []
  },
  {
   "cell_type": "code",
   "execution_count": null,
   "metadata": {},
   "outputs": [],
   "source": []
  },
  {
   "cell_type": "markdown",
   "metadata": {},
   "source": [
    "# <font color = darkorange>Paso 1</font>\n",
    "### Descargamos los genes que identificaron Yu _et al_.\n",
    "https://raw.githubusercontent.com/Bioinformatica2020/Semana5/master/Arabidopsis_Genes.txt"
   ]
  },
  {
   "cell_type": "code",
   "execution_count": null,
   "metadata": {},
   "outputs": [],
   "source": []
  },
  {
   "cell_type": "code",
   "execution_count": null,
   "metadata": {},
   "outputs": [],
   "source": []
  },
  {
   "cell_type": "markdown",
   "metadata": {},
   "source": [
    "# <font color = darkorange>Paso 2</font>\n",
    "### Descargamos la base de datos, la cual contiene toda la anotación de _A. thaliana_ en el KEGG\n",
    "https://raw.githubusercontent.com/Bioinformatica2020/Semana5/master/Arabidopsis_KEGG_Annotation.csv\n",
    "\n",
    "### <font color = salmon>Este DataFrame fue construido con una función personalizada pero falta depurarla, esta será una actividad que se realizará posteriormente, y además se implementará una forma de hacerlo automáticamente para cualquier orgnaismo depositado en la base de datos KEGG</font>"
   ]
  },
  {
   "cell_type": "code",
   "execution_count": null,
   "metadata": {},
   "outputs": [],
   "source": []
  },
  {
   "cell_type": "code",
   "execution_count": null,
   "metadata": {},
   "outputs": [],
   "source": []
  },
  {
   "cell_type": "markdown",
   "metadata": {},
   "source": [
    "## <font color = magenta>Cuántas categorías únicas hay en la tabla</font>"
   ]
  },
  {
   "cell_type": "code",
   "execution_count": null,
   "metadata": {},
   "outputs": [],
   "source": []
  },
  {
   "cell_type": "code",
   "execution_count": null,
   "metadata": {},
   "outputs": [],
   "source": []
  },
  {
   "cell_type": "markdown",
   "metadata": {},
   "source": [
    "### <font color = salmon>Cuántas vías hay por categorías</font>"
   ]
  },
  {
   "cell_type": "code",
   "execution_count": null,
   "metadata": {},
   "outputs": [],
   "source": []
  },
  {
   "cell_type": "code",
   "execution_count": null,
   "metadata": {},
   "outputs": [],
   "source": []
  },
  {
   "cell_type": "markdown",
   "metadata": {},
   "source": [
    "## <font color = magenta>Cuántas vías únicas hay en la tabla</font>"
   ]
  },
  {
   "cell_type": "code",
   "execution_count": null,
   "metadata": {},
   "outputs": [],
   "source": []
  },
  {
   "cell_type": "code",
   "execution_count": null,
   "metadata": {},
   "outputs": [],
   "source": []
  },
  {
   "cell_type": "markdown",
   "metadata": {},
   "source": [
    "# <font color = darkorange>Paso 3</font>\n",
    "### Observa las tablas\n",
    "- ### Crees que se puede hacer un `merge` entre ambos dataframes? "
   ]
  },
  {
   "cell_type": "markdown",
   "metadata": {},
   "source": [
    "### Si tu respuesta es `SI` explica porqué:"
   ]
  },
  {
   "cell_type": "raw",
   "metadata": {},
   "source": []
  },
  {
   "cell_type": "code",
   "execution_count": null,
   "metadata": {},
   "outputs": [],
   "source": []
  },
  {
   "cell_type": "markdown",
   "metadata": {},
   "source": [
    "### Si tu respuesta es `NO`  explica porqué, y qué harías para hacer el  `merge`"
   ]
  },
  {
   "cell_type": "raw",
   "metadata": {},
   "source": []
  },
  {
   "cell_type": "code",
   "execution_count": null,
   "metadata": {},
   "outputs": [],
   "source": []
  },
  {
   "cell_type": "markdown",
   "metadata": {},
   "source": [
    "# <font color = darkorange>Paso 4</font>\n",
    "### Ahora a partir de la columna `Description` extraer identificadores compatibles con los identificadores de los genes y guardarlos en una lista"
   ]
  },
  {
   "cell_type": "code",
   "execution_count": null,
   "metadata": {},
   "outputs": [],
   "source": []
  },
  {
   "cell_type": "code",
   "execution_count": null,
   "metadata": {},
   "outputs": [],
   "source": []
  },
  {
   "cell_type": "code",
   "execution_count": null,
   "metadata": {},
   "outputs": [],
   "source": []
  },
  {
   "cell_type": "markdown",
   "metadata": {},
   "source": [
    "# <font color = darkorange>Paso 5</font>\n",
    "### Agrega la lista al dataframe `arabidopsis`"
   ]
  },
  {
   "cell_type": "code",
   "execution_count": null,
   "metadata": {},
   "outputs": [],
   "source": []
  },
  {
   "cell_type": "code",
   "execution_count": null,
   "metadata": {},
   "outputs": [],
   "source": []
  },
  {
   "cell_type": "code",
   "execution_count": null,
   "metadata": {},
   "outputs": [],
   "source": []
  },
  {
   "cell_type": "markdown",
   "metadata": {},
   "source": [
    "# <font color = darkorange>Paso 6</font>\n",
    "### Ahora ya puedes hacer el `merge` entre ambos dataframe"
   ]
  },
  {
   "cell_type": "code",
   "execution_count": null,
   "metadata": {},
   "outputs": [],
   "source": []
  },
  {
   "cell_type": "code",
   "execution_count": null,
   "metadata": {},
   "outputs": [],
   "source": []
  },
  {
   "cell_type": "code",
   "execution_count": null,
   "metadata": {},
   "outputs": [],
   "source": []
  },
  {
   "cell_type": "markdown",
   "metadata": {},
   "source": [
    "# <font color = darkorange>Paso 7</font>\n",
    "### Tomando la categoría `Metabolism` determinar qué vías (`Pathway`) están implicadas"
   ]
  },
  {
   "cell_type": "code",
   "execution_count": null,
   "metadata": {},
   "outputs": [],
   "source": []
  },
  {
   "cell_type": "code",
   "execution_count": null,
   "metadata": {},
   "outputs": [],
   "source": []
  },
  {
   "cell_type": "markdown",
   "metadata": {},
   "source": [
    "# <font color = darkorange>Paso 8</font>\n",
    "### Obtener la abundancia"
   ]
  },
  {
   "cell_type": "code",
   "execution_count": null,
   "metadata": {},
   "outputs": [],
   "source": []
  },
  {
   "cell_type": "code",
   "execution_count": null,
   "metadata": {},
   "outputs": [],
   "source": []
  },
  {
   "cell_type": "markdown",
   "metadata": {},
   "source": [
    "# <font color = darkorange>Paso 9</font>\n",
    "### Grafica las vías implicadas y la abundancia de genes "
   ]
  },
  {
   "cell_type": "code",
   "execution_count": null,
   "metadata": {},
   "outputs": [],
   "source": []
  },
  {
   "cell_type": "code",
   "execution_count": null,
   "metadata": {},
   "outputs": [],
   "source": []
  },
  {
   "cell_type": "markdown",
   "metadata": {},
   "source": [
    "# <font color = red>Ejercicio:</font>\n",
    "### 1. Filtra aquellos genes que tienen números EC\n",
    "  - #### <font color = magenta>Genera una lista que contenga identificadores y números EC</font>\n",
    "  \n",
    "### <font color = blue>A partir de este dataframe:</font>\n",
    "\n",
    "### 2. Determina qué vías de la categoría `Metabolism` tienen más de 2 genes \n",
    "  - #### <font color = magenta>Este resultado muestralo en un gráfico de barras</font>\n",
    "  \n",
    "### 3. Determina la frecuencia de genes en los grupos \n",
    "  - #### <font color = magenta>Este resultado muestralo en un gráfico de barras</font>\n",
    "  \n",
    "### <font color = darkorange>Cómo abordarías este problema</font>\n",
    "---"
   ]
  },
  {
   "cell_type": "markdown",
   "metadata": {},
   "source": [
    "### 1. Filtra aquellos genes que tienen números EC"
   ]
  },
  {
   "cell_type": "code",
   "execution_count": null,
   "metadata": {},
   "outputs": [],
   "source": []
  },
  {
   "cell_type": "code",
   "execution_count": null,
   "metadata": {},
   "outputs": [],
   "source": []
  },
  {
   "cell_type": "markdown",
   "metadata": {},
   "source": [
    "### 2. Determina qué vías de la categoría `Metabolism` tienen más de 2 genes"
   ]
  },
  {
   "cell_type": "code",
   "execution_count": null,
   "metadata": {},
   "outputs": [],
   "source": []
  },
  {
   "cell_type": "code",
   "execution_count": null,
   "metadata": {},
   "outputs": [],
   "source": []
  },
  {
   "cell_type": "markdown",
   "metadata": {},
   "source": [
    "### 3. Determina la frecuencia de genes en los grupos"
   ]
  },
  {
   "cell_type": "code",
   "execution_count": null,
   "metadata": {},
   "outputs": [],
   "source": []
  },
  {
   "cell_type": "code",
   "execution_count": null,
   "metadata": {},
   "outputs": [],
   "source": []
  },
  {
   "cell_type": "code",
   "execution_count": null,
   "metadata": {},
   "outputs": [],
   "source": []
  },
  {
   "cell_type": "code",
   "execution_count": null,
   "metadata": {},
   "outputs": [],
   "source": []
  }
 ],
 "metadata": {
  "kernelspec": {
   "display_name": "Python 3",
   "language": "python",
   "name": "python3"
  },
  "language_info": {
   "codemirror_mode": {
    "name": "ipython",
    "version": 3
   },
   "file_extension": ".py",
   "mimetype": "text/x-python",
   "name": "python",
   "nbconvert_exporter": "python",
   "pygments_lexer": "ipython3",
   "version": "3.7.5"
  }
 },
 "nbformat": 4,
 "nbformat_minor": 4
}
